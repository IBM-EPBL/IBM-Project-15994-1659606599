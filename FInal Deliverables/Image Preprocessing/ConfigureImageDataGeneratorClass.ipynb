#importing image data generator library
from keras.preprocessing.image import ImageDataGenerator
Image Data Augmentation

#Configuring image Data Generator Class

#Setting Parameter for Image Augmentation for training data

train_datagen = ImageDataGenerator(rescale = 1./255, shear_range = 0.2, zoom_range = 0.2, horizontal_flip = True)

#Image Data Augmentation for testing data

test_datagen = ImageDataGenerator(rescale = 1./255)
